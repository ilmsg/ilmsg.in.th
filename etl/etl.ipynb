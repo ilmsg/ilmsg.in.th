{
 "cells": [
  {
   "cell_type": "code",
   "execution_count": 2,
   "id": "625585ae",
   "metadata": {},
   "outputs": [],
   "source": [
    "import pandas as pd\n",
    "import os"
   ]
  },
  {
   "cell_type": "code",
   "execution_count": 3,
   "id": "0c0c5e0f",
   "metadata": {},
   "outputs": [],
   "source": [
    "INPUT_CSV_PATH = 'sales_data.csv'\n",
    "OUTPUT_CSV_PATH = 'cleaned_sales.csv'"
   ]
  },
  {
   "cell_type": "code",
   "execution_count": null,
   "id": "1f6070c9",
   "metadata": {},
   "outputs": [],
   "source": [
    "def extract_data(file_path):\n",
    "    print(f\"Extracting data from %s\" % file_path)\n",
    "    try:\n",
    "        if not os.path.exists(file_path):\n",
    "            raise FileNotFoundError(f\"The file {file_path} does not exist.\")\n",
    "        \n",
    "        df = pd.read_csv(file_path)\n",
    "        return df\n",
    "    except FileNotFoundError as e:\n",
    "        print(f\"Error: {e}\")\n",
    "        return None\n",
    "    except Exception as e:\n",
    "        print(f\"An unexpected error occurred: {e}\")\n",
    "        return None"
   ]
  },
  {
   "cell_type": "code",
   "execution_count": null,
   "id": "53a9f352",
   "metadata": {},
   "outputs": [],
   "source": [
    "def transform_data(df):\n",
    "    if df is None:\n",
    "        print(\"No data to transform.\")\n",
    "        return None\n",
    "    \n",
    "    print(\"Transforming data...\")\n",
    "    transformed_df  = df.copy()\n",
    "    transformed_df['Quantity'] = transformed_df['Quantity'].fillna(0)\n",
    "    transformed_df['Category'] = transformed_df['Category'].fillna('Unknown')\n",
    "    transformed_df['Price'] = pd.to_numeric(transformed_df['Price'], errors='coerce')\n",
    "    transformed_df['Quantity'] = pd.to_numeric(transformed_df['Quantity'], errors='coerce')\n",
    "    \n",
    "    "
   ]
  }
 ],
 "metadata": {
  "kernelspec": {
   "display_name": "Python 3",
   "language": "python",
   "name": "python3"
  },
  "language_info": {
   "codemirror_mode": {
    "name": "ipython",
    "version": 3
   },
   "file_extension": ".py",
   "mimetype": "text/x-python",
   "name": "python",
   "nbconvert_exporter": "python",
   "pygments_lexer": "ipython3",
   "version": "3.11.11"
  }
 },
 "nbformat": 4,
 "nbformat_minor": 5
}
